{
 "cells": [
  {
   "cell_type": "markdown",
   "id": "a4bf9917",
   "metadata": {},
   "source": [
    "### Assignment 13 - \"Letters Count\" - 6th December 2021"
   ]
  },
  {
   "cell_type": "code",
   "execution_count": 2,
   "id": "4cbbc513",
   "metadata": {},
   "outputs": [
    {
     "name": "stdout",
     "output_type": "stream",
     "text": [
      "Enter your sentence to count the characters: hippo runs to us!\n",
      "{'h': 1, 'i': 1, 'p': 2, 'o': 2, ' ': 3, 'r': 1, 'u': 2, 'n': 1, 's': 2, 't': 1, '!': 1}"
     ]
    }
   ],
   "source": [
    "txt = input(\"Enter your sentence to count the characters: \")\n",
    "txt1 = txt.casefold()\n",
    "char_count = {}\n",
    "\n",
    "for i in txt1:\n",
    "    if i not in char_count.keys():\n",
    "        char_count.update({i: txt1.count(i)})\n",
    "        \n",
    "print(char_count, end=\"\")"
   ]
  },
  {
   "cell_type": "code",
   "execution_count": null,
   "id": "711221c3",
   "metadata": {},
   "outputs": [],
   "source": []
  }
 ],
 "metadata": {
  "kernelspec": {
   "display_name": "Python 3 (ipykernel)",
   "language": "python",
   "name": "python3"
  },
  "language_info": {
   "codemirror_mode": {
    "name": "ipython",
    "version": 3
   },
   "file_extension": ".py",
   "mimetype": "text/x-python",
   "name": "python",
   "nbconvert_exporter": "python",
   "pygments_lexer": "ipython3",
   "version": "3.8.8"
  }
 },
 "nbformat": 4,
 "nbformat_minor": 5
}
