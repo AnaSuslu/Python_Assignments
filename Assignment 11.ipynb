{
 "cells": [
  {
   "cell_type": "markdown",
   "id": "6741f491",
   "metadata": {},
   "source": [
    "## Assignment 11 - \"Prime Numbers 2\" - 24th november 2021¶"
   ]
  },
  {
   "cell_type": "code",
   "execution_count": 1,
   "id": "bccbce5a",
   "metadata": {},
   "outputs": [
    {
     "name": "stdout",
     "output_type": "stream",
     "text": [
      "Enter a limit number: 100\n",
      "[2, 3, 5, 7, 11, 13, 17, 19, 23, 29, 31, 37, 41, 43, 47, 53, 59, 61, 67, 71, 73, 79, 83, 89, 97]\n"
     ]
    }
   ],
   "source": [
    "n = int(input(\"Enter a limit number: \"))\n",
    "numbers = list(range(2, n+1))\n",
    "primes = []\n",
    "count = 0\n",
    "    \n",
    "for i in numbers:\n",
    "    for a in range(2, i):\n",
    "        if i%a == 0:\n",
    "            count += 1\n",
    "    if count == 0:\n",
    "        primes.append(i)\n",
    "    count = 0\n",
    "       \n",
    "print(primes)"
   ]
  },
  {
   "cell_type": "code",
   "execution_count": null,
   "id": "a609ade2",
   "metadata": {},
   "outputs": [],
   "source": []
  }
 ],
 "metadata": {
  "kernelspec": {
   "display_name": "Python 3 (ipykernel)",
   "language": "python",
   "name": "python3"
  },
  "language_info": {
   "codemirror_mode": {
    "name": "ipython",
    "version": 3
   },
   "file_extension": ".py",
   "mimetype": "text/x-python",
   "name": "python",
   "nbconvert_exporter": "python",
   "pygments_lexer": "ipython3",
   "version": "3.8.8"
  }
 },
 "nbformat": 4,
 "nbformat_minor": 5
}
