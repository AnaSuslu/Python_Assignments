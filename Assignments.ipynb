{
 "cells": [
  {
   "cell_type": "markdown",
   "id": "8c3e55bb",
   "metadata": {},
   "source": [
    "# Assignments"
   ]
  },
  {
   "cell_type": "markdown",
   "id": "eda95f60",
   "metadata": {},
   "source": [
    "### Assignment 1 - \"profit Calculator\" - 5th october 2021"
   ]
  },
  {
   "cell_type": "code",
   "execution_count": 10,
   "id": "e4b85748",
   "metadata": {},
   "outputs": [
    {
     "name": "stdout",
     "output_type": "stream",
     "text": [
      "1605.7814764784307\n"
     ]
    }
   ],
   "source": [
    "start_money = 1000\n",
    "daily_profit = 1.07  # 7% = 1.07\n",
    "total_days = 7 \n",
    "\n",
    "final_money = start_money*(daily_profit**total_days)\n",
    "\n",
    "print(final_money)"
   ]
  },
  {
   "cell_type": "markdown",
   "id": "33017903",
   "metadata": {},
   "source": [
    "### Assignment 2 - \"Mesure and Distance Converter\" - 10th october 2021"
   ]
  },
  {
   "cell_type": "code",
   "execution_count": 11,
   "id": "63c64cd4",
   "metadata": {},
   "outputs": [
    {
     "name": "stdout",
     "output_type": "stream",
     "text": [
      "Enter a Celsius temperature value: 50\n",
      "122.0\n"
     ]
    }
   ],
   "source": [
    "# x : tempertature in Celsius\n",
    "# y : tempertature in Fahrenheit\n",
    "\n",
    "x = input ('Enter a Celsius temperature value: ')\n",
    "y = (float(x) * 1.8) + 32\n",
    "\n",
    "print(y)"
   ]
  },
  {
   "cell_type": "code",
   "execution_count": 12,
   "id": "277c287f",
   "metadata": {},
   "outputs": [
    {
     "name": "stdout",
     "output_type": "stream",
     "text": [
      "Enter distance value: 120\n",
      "74.5645428\n"
     ]
    }
   ],
   "source": [
    "# x : distance in kilometers\n",
    "# y : conversion factor\n",
    "# z : distance in miles\n",
    "\n",
    "x = input ('Enter distance value: ')\n",
    "y = 0.62137119\n",
    "z = float(x) * y\n",
    "print(z)"
   ]
  },
  {
   "cell_type": "markdown",
   "id": "a5f939db",
   "metadata": {},
   "source": [
    "### Assignment 3 - \"Covid check boolean\" - 14th october 2021"
   ]
  },
  {
   "cell_type": "code",
   "execution_count": 13,
   "id": "8134a691",
   "metadata": {},
   "outputs": [
    {
     "name": "stdout",
     "output_type": "stream",
     "text": [
      "Are you a cigarette addict older than 75 years old?\n",
      "Enter yes or no: no\n",
      "Do you have a severe chronic disease\n",
      "Enter yes or no: no\n",
      "Is your immune system too weak?\n",
      "Enter yes or no: no\n",
      "There is not a risk of death!\n"
     ]
    }
   ],
   "source": [
    "\t\n",
    "print('Are you a cigarette addict older than 75 years old?')\n",
    "answer_1 = input('Enter yes or no: ')\n",
    "\n",
    "print('Do you have a severe chronic disease')\n",
    "answer_2 = input('Enter yes or no: ')\n",
    "\n",
    "print('Is your immune system too weak?')\n",
    "answer_3 = input('Enter yes or no: ')\n",
    "\n",
    "if answer_1 == 'no' and answer_2 == 'no' and answer_3 == 'no':\n",
    "    print('There is not a risk of death!')\n",
    "else:\n",
    "    print('There is a risk of death!')"
   ]
  },
  {
   "cell_type": "markdown",
   "id": "7b9356b6",
   "metadata": {},
   "source": [
    "### Assignment 4 - \"The most frequent element\" - 18th october 2021"
   ]
  },
  {
   "cell_type": "code",
   "execution_count": null,
   "id": "dfc059b0",
   "metadata": {},
   "outputs": [],
   "source": [
    "\t\n",
    "numbers = [1, 3, 7, 4, 3, 0, 3, 6, 3] \n",
    "\n",
    "x = len(numbers)-1\n",
    "y = 0\n",
    "z = x\n",
    "while x >= 0:\n",
    "    if numbers.count(numbers[x]) > y:\n",
    "        y = numbers.count(numbers[x])\n",
    "        z = x\n",
    "    x = x-1\n",
    "k = numbers[z]\n",
    "\n",
    "print('the most frequent number is {} and it was {} times repeated'.format(k, y))"
   ]
  },
  {
   "cell_type": "markdown",
   "id": "f9bc5b6b",
   "metadata": {},
   "source": [
    "### Assignement 5 - \"Comfortable Words\" - 25th october 2021"
   ]
  },
  {
   "cell_type": "code",
   "execution_count": 19,
   "id": "04931d03",
   "metadata": {},
   "outputs": [
    {
     "name": "stdout",
     "output_type": "stream",
     "text": [
      "Enter a lower_case word: clarusway\n",
      "True\n"
     ]
    }
   ],
   "source": [
    "\n",
    "word = set(input('Enter a lower_case word: '))\n",
    "\n",
    "x = {'q', 'w', 'e', 'r', 't', 'a', 's', 'd', 'f', 'g', 'z', 'x', 'c', 'v'}  # left-hand keyboard letters\n",
    "y = {'y', 'u', 'o', 'p', 'h', 'j', 'k', 'l', 'b', 'n', 'm'}  # Right-hand keyboard letters\n",
    "\n",
    "a = word.intersection(x)  # intersection between the word and left-hand keyboard letters\n",
    "b = word.intersection(y)  # intersection between the word and Right-hand keyboard letters\n",
    "\n",
    "if len(a)>0 and len(b)>0:\n",
    "    print(True)\n",
    "else:\n",
    "    print(False)"
   ]
  },
  {
   "cell_type": "markdown",
   "id": "7ad50fa2",
   "metadata": {},
   "source": [
    "### Assignment 6 - \"Password Reminder\" - 4th november 2021"
   ]
  },
  {
   "cell_type": "code",
   "execution_count": 18,
   "id": "eef381ac",
   "metadata": {},
   "outputs": [
    {
     "name": "stdout",
     "output_type": "stream",
     "text": [
      "enter your first name: Ana\n",
      "Hello, Ana! The password is: al1234\n"
     ]
    }
   ],
   "source": [
    "\t\n",
    "username = input('enter your first name: ')\n",
    "myusername = 'Ana' \n",
    "password = 'al1234'\n",
    "\n",
    "if username == myusername:\n",
    "    print('Hello, Ana! The password is:', password)\n",
    "else:\n",
    "    print('Hello, {}! See you later.'.format(username))"
   ]
  },
  {
   "cell_type": "markdown",
   "id": "2b529189",
   "metadata": {},
   "source": [
    "### Assignment 7 - \"Covid check 2\" - 6th november 2021"
   ]
  },
  {
   "cell_type": "code",
   "execution_count": 16,
   "id": "a6ada0b5",
   "metadata": {},
   "outputs": [
    {
     "name": "stdout",
     "output_type": "stream",
     "text": [
      "Are you a cigarette addict older than 75 years old?Press yes if true, otherwise press enter: \n",
      "Do you have a severe chronic disease?Press yes if true, otherwise press enter: \n",
      "Is your immune system too weak?Press yes if true, otherwise press enter: \n",
      "You're not in the risk group\n"
     ]
    }
   ],
   "source": [
    "\t\n",
    "q1 = bool(input('Are you a cigarette addict older than 75 years old?Press yes if true, otherwise press enter: '))\n",
    "q2 = bool(input('Do you have a severe chronic disease?Press yes if true, otherwise press enter: '))\n",
    "q3 = bool(input('Is your immune system too weak?Press yes if true, otherwise press enter: '))\n",
    "\n",
    "if q1 or q2 or q3:\n",
    "    print('You\\'re in the risk group')\n",
    "else:\n",
    "    print('You\\'re not in the risk group')"
   ]
  },
  {
   "cell_type": "markdown",
   "id": "624e40ad",
   "metadata": {},
   "source": [
    "### Assignment 8 - \"Amstrong Numbers\" - 13th november 2021"
   ]
  },
  {
   "cell_type": "code",
   "execution_count": 15,
   "id": "be6eb3b1",
   "metadata": {},
   "outputs": [
    {
     "name": "stdout",
     "output_type": "stream",
     "text": [
      "Enter a number: 156\n",
      "156 is not an Amstrong number!\n"
     ]
    }
   ],
   "source": [
    "num = input(\"Enter a number: \")\n",
    "num_list = []\n",
    "num_list2 = []\n",
    "\n",
    "for i in num:\n",
    "    num_list.append(int(i))\n",
    "\n",
    "for j in num_list:\n",
    "    k = (j**len(num_list))\n",
    "    num_list2.append(k)\n",
    "\n",
    "if sum(num_list2) == int(num):\n",
    "    print(num, \"is an Amstrong number!\")\n",
    "else:\n",
    "    print(num, \"is not an Amstrong number!\")"
   ]
  },
  {
   "cell_type": "markdown",
   "id": "5e5c8aa2",
   "metadata": {},
   "source": [
    "### Assignment 9 - \"Prime numbers\" - 16th november 2021"
   ]
  },
  {
   "cell_type": "code",
   "execution_count": 14,
   "id": "3891b035",
   "metadata": {},
   "outputs": [
    {
     "name": "stdout",
     "output_type": "stream",
     "text": [
      "Enter a number: 19\n",
      "19 is a prime number\n"
     ]
    }
   ],
   "source": [
    "\t\n",
    "num = int(input(\"Enter a number: \"))\n",
    "count= 0\n",
    "\n",
    "for i in range(2, num):\n",
    "    if num % i == 0:\n",
    "        count = count + 1\n",
    "        print(num, \"is not a prime number\")\n",
    "        break\n",
    "\n",
    "if count == 0:\n",
    "    print(num, \"is a prime number\")"
   ]
  },
  {
   "cell_type": "markdown",
   "id": "c40ae79b",
   "metadata": {},
   "source": [
    "### Assignment 10 - \"Fibonacci numbers\" - 21st november 2021"
   ]
  },
  {
   "cell_type": "code",
   "execution_count": 8,
   "id": "51e52702",
   "metadata": {},
   "outputs": [
    {
     "name": "stdout",
     "output_type": "stream",
     "text": [
      "[1, 1, 2, 3, 5, 8, 13, 21, 34, 55]\n"
     ]
    }
   ],
   "source": [
    "fibonacci = [1, 1]\n",
    "\n",
    "for i in range(2,10):\n",
    "    fibonacci.append(fibonacci[i-1] + fibonacci[i-2])\n",
    "    \n",
    "print(fibonacci)"
   ]
  },
  {
   "cell_type": "code",
   "execution_count": 7,
   "id": "aec6be8c",
   "metadata": {},
   "outputs": [
    {
     "name": "stdout",
     "output_type": "stream",
     "text": [
      "[1, 1, 2, 3, 5, 8, 13, 21, 34, 55]\n"
     ]
    }
   ],
   "source": [
    "fibonacci = [1, 1]\n",
    "count = 2\n",
    "\n",
    "while count >= 2:\n",
    "    x = fibonacci[count-1] + fibonacci[count-2]\n",
    "    fibonacci.append(x)\n",
    "    count = count + 1\n",
    "    if x == 55:\n",
    "        break\n",
    "    \n",
    "print(fibonacci)"
   ]
  },
  {
   "cell_type": "code",
   "execution_count": null,
   "id": "add78a2e",
   "metadata": {},
   "outputs": [],
   "source": []
  }
 ],
 "metadata": {
  "kernelspec": {
   "display_name": "Python 3 (ipykernel)",
   "language": "python",
   "name": "python3"
  },
  "language_info": {
   "codemirror_mode": {
    "name": "ipython",
    "version": 3
   },
   "file_extension": ".py",
   "mimetype": "text/x-python",
   "name": "python",
   "nbconvert_exporter": "python",
   "pygments_lexer": "ipython3",
   "version": "3.8.8"
  }
 },
 "nbformat": 4,
 "nbformat_minor": 5
}
